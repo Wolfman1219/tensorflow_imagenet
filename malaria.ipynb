{
 "cells": [
  {
   "cell_type": "code",
   "execution_count": 1,
   "metadata": {},
   "outputs": [],
   "source": [
    "import tensorflow as tf\n",
    "import numpy as np\n",
    "from tensorflow.keras.layers import Dense, Flatten, Conv2D, MaxPooling2D, Dropout, BatchNormalization, GlobalAveragePooling2D\n",
    "from tensorflow.keras import Model, Sequential\n",
    "from tensorflow.keras.preprocessing.image import ImageDataGenerator, load_img, img_to_array\n",
    "from tensorflow.keras.utils import to_categorical, model_to_dot, plot_model\n",
    "from tensorflow.keras.applications.inception_v3 import InceptionV3, preprocess_input\n",
    "from tensorflow.keras.preprocessing.image import ImageDataGenerator, load_img, img_to_array\n",
    "from tensorflow.keras.callbacks import ModelCheckpoint, EarlyStopping, CSVLogger, ReduceLROnPlateau\n",
    "import tensorflow_datasets as tfds"
   ]
  },
  {
   "cell_type": "code",
   "execution_count": 2,
   "metadata": {},
   "outputs": [
    {
     "name": "stdout",
     "output_type": "stream",
     "text": [
      "<class 'tensorflow.python.data.ops.dataset_ops.MapDataset'>\n"
     ]
    }
   ],
   "source": [
    "dataset = tfds.load(\"malaria\", split = \"train\")\n",
    "batch_size = 32\n",
    "def preprocess_data(example):\n",
    "    image = example['image']\n",
    "    image = tf.image.resize(image, [32, 32])\n",
    "    image = tf.cast(image, tf.float32) / 255.0\n",
    "    label = example['label']\n",
    "    return image, label\n",
    "\n",
    "dataset = dataset.map(preprocess_data)\n",
    "\n",
    "print(type(dataset))\n",
    "dataset = dataset.batch(batch_size).prefetch(tf.data.experimental.AUTOTUNE)"
   ]
  },
  {
   "cell_type": "code",
   "execution_count": 3,
   "metadata": {},
   "outputs": [
    {
     "name": "stdout",
     "output_type": "stream",
     "text": [
      "Model: \"vgg19\"\n",
      "_________________________________________________________________\n",
      " Layer (type)                Output Shape              Param #   \n",
      "=================================================================\n",
      " input_1 (InputLayer)        [(None, 32, 32, 3)]       0         \n",
      "                                                                 \n",
      " block1_conv1 (Conv2D)       (None, 32, 32, 64)        1792      \n",
      "                                                                 \n",
      " block1_conv2 (Conv2D)       (None, 32, 32, 64)        36928     \n",
      "                                                                 \n",
      " block1_pool (MaxPooling2D)  (None, 16, 16, 64)        0         \n",
      "                                                                 \n",
      " block2_conv1 (Conv2D)       (None, 16, 16, 128)       73856     \n",
      "                                                                 \n",
      " block2_conv2 (Conv2D)       (None, 16, 16, 128)       147584    \n",
      "                                                                 \n",
      " block2_pool (MaxPooling2D)  (None, 8, 8, 128)         0         \n",
      "                                                                 \n",
      " block3_conv1 (Conv2D)       (None, 8, 8, 256)         295168    \n",
      "                                                                 \n",
      " block3_conv2 (Conv2D)       (None, 8, 8, 256)         590080    \n",
      "                                                                 \n",
      " block3_conv3 (Conv2D)       (None, 8, 8, 256)         590080    \n",
      "                                                                 \n",
      " block3_conv4 (Conv2D)       (None, 8, 8, 256)         590080    \n",
      "                                                                 \n",
      " block3_pool (MaxPooling2D)  (None, 4, 4, 256)         0         \n",
      "                                                                 \n",
      " block4_conv1 (Conv2D)       (None, 4, 4, 512)         1180160   \n",
      "                                                                 \n",
      " block4_conv2 (Conv2D)       (None, 4, 4, 512)         2359808   \n",
      "                                                                 \n",
      " block4_conv3 (Conv2D)       (None, 4, 4, 512)         2359808   \n",
      "                                                                 \n",
      " block4_conv4 (Conv2D)       (None, 4, 4, 512)         2359808   \n",
      "                                                                 \n",
      " block4_pool (MaxPooling2D)  (None, 2, 2, 512)         0         \n",
      "                                                                 \n",
      " block5_conv1 (Conv2D)       (None, 2, 2, 512)         2359808   \n",
      "                                                                 \n",
      " block5_conv2 (Conv2D)       (None, 2, 2, 512)         2359808   \n",
      "                                                                 \n",
      " block5_conv3 (Conv2D)       (None, 2, 2, 512)         2359808   \n",
      "                                                                 \n",
      " block5_conv4 (Conv2D)       (None, 2, 2, 512)         2359808   \n",
      "                                                                 \n",
      " block5_pool (MaxPooling2D)  (None, 1, 1, 512)         0         \n",
      "                                                                 \n",
      "=================================================================\n",
      "Total params: 20,024,384\n",
      "Trainable params: 20,024,384\n",
      "Non-trainable params: 0\n",
      "_________________________________________________________________\n"
     ]
    }
   ],
   "source": [
    "vgg19 = tf.keras.applications.vgg19.VGG19(include_top = False, input_shape = (32, 32, 3), weights = 'imagenet')\n",
    "vgg19.summary()  ### To show the model's architecture"
   ]
  },
  {
   "cell_type": "code",
   "execution_count": 4,
   "metadata": {},
   "outputs": [
    {
     "name": "stdout",
     "output_type": "stream",
     "text": [
      "Model: \"sequential\"\n",
      "_________________________________________________________________\n",
      " Layer (type)                Output Shape              Param #   \n",
      "=================================================================\n",
      " vgg19 (Functional)          (None, 1, 1, 512)         20024384  \n",
      "                                                                 \n",
      " flatten (Flatten)           (None, 512)               0         \n",
      "                                                                 \n",
      " dense (Dense)               (None, 4096)              2101248   \n",
      "                                                                 \n",
      " dropout (Dropout)           (None, 4096)              0         \n",
      "                                                                 \n",
      " dense_1 (Dense)             (None, 1024)              4195328   \n",
      "                                                                 \n",
      " dense_2 (Dense)             (None, 2)                 2050      \n",
      "                                                                 \n",
      "=================================================================\n",
      "Total params: 26,323,010\n",
      "Trainable params: 6,298,626\n",
      "Non-trainable params: 20,024,384\n",
      "_________________________________________________________________\n"
     ]
    }
   ],
   "source": [
    "model_vgg19 = Sequential()\n",
    "for layer in vgg19.layers:\n",
    "    layer.trainable = False      ### To turn off VGG19's trainable parameters\n",
    "model_vgg19.add(vgg19)\n",
    "model_vgg19.add(Flatten())      \n",
    "model_vgg19.add(Dense(4096, activation = 'relu'))\n",
    "model_vgg19.add(Dropout(0.2))\n",
    "model_vgg19.add(Dense(1024, activation = 'relu'))\n",
    "model_vgg19.add(Dense(2, activation = 'softmax'))\n",
    "model_vgg19.summary()"
   ]
  },
  {
   "cell_type": "code",
   "execution_count": 5,
   "metadata": {},
   "outputs": [],
   "source": [
    "loss_object = tf.keras.losses.SparseCategoricalCrossentropy(from_logits=True)    \n",
    "optimizer = tf.keras.optimizers.Adam()"
   ]
  },
  {
   "cell_type": "code",
   "execution_count": 6,
   "metadata": {},
   "outputs": [],
   "source": [
    "model_vgg19.compile(optimizer=optimizer, loss=loss_object, metrics=['accuracy'])"
   ]
  },
  {
   "cell_type": "code",
   "execution_count": 7,
   "metadata": {},
   "outputs": [
    {
     "name": "stdout",
     "output_type": "stream",
     "text": [
      "WARNING:tensorflow:`period` argument is deprecated. Please use `save_freq` to specify the frequency in number of batches seen.\n"
     ]
    },
    {
     "name": "stderr",
     "output_type": "stream",
     "text": [
      "WARNING:tensorflow:`period` argument is deprecated. Please use `save_freq` to specify the frequency in number of batches seen.\n"
     ]
    }
   ],
   "source": [
    "checkpoint = ModelCheckpoint(\n",
    "    'malaria.h5',\n",
    "    monitor='loss',\n",
    "    verbose=1,\n",
    "    save_best_only=True,\n",
    "    mode='auto',\n",
    "    save_weights_only=False,\n",
    "    period=1\n",
    ")\n",
    "earlystop = EarlyStopping(\n",
    "    monitor='loss',\n",
    "    min_delta=0.001,\n",
    "    patience=3,\n",
    "    verbose=1,\n",
    "    mode='auto'\n",
    ")\n",
    "csvlogger = CSVLogger(\n",
    "    filename= \"training_csv.log\",\n",
    "    separator = \",\",\n",
    "    append = False\n",
    ")\n",
    "reduceLR = ReduceLROnPlateau(\n",
    "    monitor='loss',\n",
    "    factor=0.1,\n",
    "    patience=3,\n",
    "    verbose=1, \n",
    "    mode='auto'\n",
    ")\n",
    "callbacks = [checkpoint, earlystop, csvlogger,reduceLR]"
   ]
  },
  {
   "cell_type": "code",
   "execution_count": 8,
   "metadata": {},
   "outputs": [
    {
     "name": "stdout",
     "output_type": "stream",
     "text": [
      "Epoch 1/10\n"
     ]
    },
    {
     "name": "stderr",
     "output_type": "stream",
     "text": [
      "c:\\Users\\ajbbo\\anaconda3\\envs\\gpu\\lib\\site-packages\\keras\\backend.py:5582: UserWarning: \"`sparse_categorical_crossentropy` received `from_logits=True`, but the `output` argument was produced by a Softmax activation and thus does not represent logits. Was this intended?\n",
      "  output, from_logits = _get_logits(\n"
     ]
    },
    {
     "name": "stdout",
     "output_type": "stream",
     "text": [
      "862/862 [==============================] - ETA: 0s - loss: 0.3590 - accuracy: 0.8443\n",
      "Epoch 1: loss improved from inf to 0.35896, saving model to malaria.h5\n",
      "862/862 [==============================] - 14s 12ms/step - loss: 0.3590 - accuracy: 0.8443 - lr: 0.0010\n",
      "Epoch 2/10\n",
      "859/862 [============================>.] - ETA: 0s - loss: 0.3066 - accuracy: 0.8667\n",
      "Epoch 2: loss improved from 0.35896 to 0.30649, saving model to malaria.h5\n",
      "862/862 [==============================] - 10s 11ms/step - loss: 0.3065 - accuracy: 0.8667 - lr: 0.0010\n",
      "Epoch 3/10\n",
      "860/862 [============================>.] - ETA: 0s - loss: 0.2925 - accuracy: 0.8740\n",
      "Epoch 3: loss improved from 0.30649 to 0.29246, saving model to malaria.h5\n",
      "862/862 [==============================] - 10s 11ms/step - loss: 0.2925 - accuracy: 0.8740 - lr: 0.0010\n",
      "Epoch 4/10\n",
      "859/862 [============================>.] - ETA: 0s - loss: 0.2831 - accuracy: 0.8779\n",
      "Epoch 4: loss improved from 0.29246 to 0.28308, saving model to malaria.h5\n",
      "862/862 [==============================] - 10s 11ms/step - loss: 0.2831 - accuracy: 0.8779 - lr: 0.0010\n",
      "Epoch 5/10\n",
      "858/862 [============================>.] - ETA: 0s - loss: 0.2763 - accuracy: 0.8817\n",
      "Epoch 5: loss improved from 0.28308 to 0.27604, saving model to malaria.h5\n",
      "862/862 [==============================] - 9s 11ms/step - loss: 0.2760 - accuracy: 0.8818 - lr: 0.0010\n",
      "Epoch 6/10\n",
      "860/862 [============================>.] - ETA: 0s - loss: 0.2725 - accuracy: 0.8838\n",
      "Epoch 6: loss improved from 0.27604 to 0.27247, saving model to malaria.h5\n",
      "862/862 [==============================] - 9s 11ms/step - loss: 0.2725 - accuracy: 0.8838 - lr: 0.0010\n",
      "Epoch 7/10\n",
      "858/862 [============================>.] - ETA: 0s - loss: 0.2681 - accuracy: 0.8858\n",
      "Epoch 7: loss improved from 0.27247 to 0.26796, saving model to malaria.h5\n",
      "862/862 [==============================] - 9s 11ms/step - loss: 0.2680 - accuracy: 0.8859 - lr: 0.0010\n",
      "Epoch 8/10\n",
      "862/862 [==============================] - ETA: 0s - loss: 0.2647 - accuracy: 0.8870\n",
      "Epoch 8: loss improved from 0.26796 to 0.26472, saving model to malaria.h5\n",
      "862/862 [==============================] - 9s 11ms/step - loss: 0.2647 - accuracy: 0.8870 - lr: 0.0010\n",
      "Epoch 9/10\n",
      "857/862 [============================>.] - ETA: 0s - loss: 0.2615 - accuracy: 0.8879\n",
      "Epoch 9: loss improved from 0.26472 to 0.26127, saving model to malaria.h5\n",
      "862/862 [==============================] - 9s 11ms/step - loss: 0.2613 - accuracy: 0.8879 - lr: 0.0010\n",
      "Epoch 10/10\n",
      "858/862 [============================>.] - ETA: 0s - loss: 0.2570 - accuracy: 0.8908\n",
      "Epoch 10: loss improved from 0.26127 to 0.25677, saving model to malaria.h5\n",
      "862/862 [==============================] - 9s 10ms/step - loss: 0.2568 - accuracy: 0.8908 - lr: 0.0010\n"
     ]
    }
   ],
   "source": [
    "### To fit the model\n",
    "history = model_vgg19.fit(\n",
    "    dataset, \n",
    "    epochs = 10,\n",
    "    # validation_data = normalized_val_ds, \n",
    "    callbacks = callbacks,\n",
    "    shuffle = True\n",
    ")\n"
   ]
  }
 ],
 "metadata": {
  "kernelspec": {
   "display_name": "gpu",
   "language": "python",
   "name": "python3"
  },
  "language_info": {
   "codemirror_mode": {
    "name": "ipython",
    "version": 3
   },
   "file_extension": ".py",
   "mimetype": "text/x-python",
   "name": "python",
   "nbconvert_exporter": "python",
   "pygments_lexer": "ipython3",
   "version": "3.9.16"
  },
  "orig_nbformat": 4
 },
 "nbformat": 4,
 "nbformat_minor": 2
}
